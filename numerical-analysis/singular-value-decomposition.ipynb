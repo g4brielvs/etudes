{
 "cells": [
  {
   "cell_type": "code",
   "execution_count": null,
   "metadata": {},
   "outputs": [],
   "source": [
    "import numpy as np\n",
    "import matplotlib.pyplot as plt \n",
    "\n",
    "import requests\n",
    "\n",
    "from io import StringIO, BytesIO\n",
    "\n",
    "%matplotlib inline"
   ]
  },
  {
   "cell_type": "markdown",
   "metadata": {},
   "source": [
    "# Singular Value Decomposition (SVD)\n",
    "\n",
    "Sejam $m$ e $n$ as dimensões de uma matriz  $A \\in \\mathbb{R}^{m \\times n}$, então a decomposição em valores singulares de $A$ é dada na forma abaixo.\n",
    "\n",
    "\\begin{equation}\n",
    "    A = U \\Sigma V^T\n",
    "\\end{equation}\n",
    "    \n",
    "- $U \\in \\mathbb{R}^{m \\times m}$ e $V \\in \\mathbb{R}^{n \\times n}$ são matrizes ortogonais de vetores singulares de $A$\n",
    "- $\\Sigma = \\mbox{diag}(\\sigma_1, \\ldots, \\sigma_r)$ é matriz diagonal\n",
    "- $\\sigma_1 \\geq \\sigma_2 \\ldots \\geq \\sigma_r \\geq 0$ são os valores singulares de $A$"
   ]
  },
  {
   "cell_type": "code",
   "execution_count": null,
   "metadata": {},
   "outputs": [],
   "source": [
    "def dim(img):\n",
    "    row, col, _ = img.shape\n",
    "    print(\"Pixels: {} * {}\".format(row, col))\n",
    "    \n",
    "def rgb(img):\n",
    "    return img[:,:, 0], img[:,:, 1], img[:,:, 2]\n",
    "\n",
    "def mult(U, S, V):\n",
    "\treturn np.dot(U, np.dot(np.diag(S), V))"
   ]
  },
  {
   "cell_type": "code",
   "execution_count": null,
   "metadata": {},
   "outputs": [],
   "source": [
    "def compress(img, k):\n",
    "    \n",
    "    row, col, _ = img.shape\n",
    "    \n",
    "    # Separacao dos canais RGB\n",
    "    img_r = img[:,:, 0]\n",
    "    img_g = img[:,:, 1] \n",
    "    img_b = img[:,:, 2]\n",
    "    \n",
    "    U_r, S_r, V_r = np.linalg.svd(img_r, full_matrices=True)\n",
    "    U_g, S_g, V_g = np.linalg.svd(img_g, full_matrices=True)\n",
    "    U_b, S_b, V_b = np.linalg.svd(img_b, full_matrices=True)\n",
    "    \n",
    "    # Selecao dos k-primeiros valores singulares \n",
    "    U_r_k = U_r[:, 0:k]\n",
    "    V_r_k = V_r[0:k, :]\n",
    "    U_g_k = U_g[:, 0:k]\n",
    "    V_g_k = V_g[0:k, :]\n",
    "    U_b_k = U_b[:, 0:k]\n",
    "    V_b_k = V_b[0:k, :]\n",
    "\n",
    "    S_r_k = S_r[0:k]\n",
    "    S_g_k = S_g[0:k]\n",
    "    S_b_k = S_b[0:k]\n",
    "       \n",
    "    # Reconstrucao usando uma aproximacao k-rank da imagem\n",
    "    img_r_k = np.dot(U_r_k, np.dot(np.diag(S_r_k), V_r_k))\n",
    "    img_g_k = np.dot(U_g_k, np.dot(np.diag(S_g_k), V_g_k))\n",
    "    img_b_k = np.dot(U_b_k, np.dot(np.diag(S_b_k), V_b_k))\n",
    "    \n",
    "    img_reconst = np.zeros((row, col, 3))\n",
    "    img_reconst[:, :, 0] = img_r_k\n",
    "    img_reconst[:, :, 1] = img_g_k\n",
    "    img_reconst[:, :, 2] = img_b_k\n",
    "    \n",
    "    img_reconst[img_reconst < 0] = 0\n",
    "    img_reconst[img_reconst > 1] = 1\n",
    "    \n",
    "    original_bytes = img.nbytes\n",
    "    #print(\"The space (in bytes) needed to store this image is {}\".format(original_bytes))\n",
    "\n",
    "    bytes_to_be_stored = sum([m.nbytes for m in [U_r, S_r, V_r , U_g, S_g, V_g , U_b, S_b, V_b]])\n",
    "    #print(\"The space (in bytes) needed to store all matrices is {}\".format(bytes_to_be_stored))\n",
    "\n",
    "    compressed_bytes = sum([m.nbytes for m in [U_r_k, V_r_k, U_g_k, V_g_k, U_b_k, V_b_k, S_r_k, S_g_k, S_b_k]])\n",
    "    #print(\"The space (in bytes) needed to store compressed matrices is {}\".format(compressed_bytes))\n",
    "\n",
    "    ratio = 100 * (compressed_bytes / original_bytes)\n",
    "    #print(\"The compression ratio is {}%\".format(ratio))\n",
    "    \n",
    "    return img_reconst, ratio"
   ]
  },
  {
   "cell_type": "markdown",
   "metadata": {},
   "source": [
    "## Imagem"
   ]
  },
  {
   "cell_type": "code",
   "execution_count": null,
   "metadata": {},
   "outputs": [],
   "source": [
    "r = requests.get('https://upload.wikimedia.org/wikipedia/commons/7/78/New_York_%2833559074896%29.jpg')"
   ]
  },
  {
   "cell_type": "markdown",
   "metadata": {},
   "source": [
    "## Preto-e-branco"
   ]
  },
  {
   "cell_type": "code",
   "execution_count": null,
   "metadata": {},
   "outputs": [],
   "source": [
    "from PIL import Image\n",
    "img = Image.open(BytesIO(r.content))"
   ]
  },
  {
   "cell_type": "code",
   "execution_count": null,
   "metadata": {
    "collapsed": false,
    "jupyter": {
     "outputs_hidden": false
    }
   },
   "outputs": [],
   "source": [
    "imggray = img.convert('LA')\n",
    "\n",
    "imgmat = np.array(list(imggray.getdata(band=0)), float)\n",
    "imgmat.shape = (imggray.size[1], imggray.size[0])\n",
    "imgmat = np.matrix(imgmat)\n",
    "\n",
    "plt.imshow(imgmat, cmap='gray')"
   ]
  },
  {
   "cell_type": "code",
   "execution_count": null,
   "metadata": {
    "collapsed": false,
    "jupyter": {
     "outputs_hidden": false
    }
   },
   "outputs": [],
   "source": [
    "U, S, V = np.linalg.svd(imgmat)\n",
    "\n",
    "fig = plt.figure()\n",
    "    \n",
    "for i in range(100, 1601, 100):\n",
    "    \n",
    "    reconstimg = np.matrix(U[:, :i]) * np.diag(S[:i]) * np.matrix(V[:i, :])   \n",
    "    plt.imshow(reconstimg, cmap='gray')\n",
    "    #plt.title(\"n = {}\".format(i))\n",
    "    #fig.savefig(\"{}.png\".format(i))    "
   ]
  },
  {
   "cell_type": "code",
   "execution_count": null,
   "metadata": {
    "collapsed": false,
    "jupyter": {
     "outputs_hidden": false
    }
   },
   "outputs": [],
   "source": [
    "fig = plt.figure()\n",
    "\n",
    "plt.plot(np.diag(S), color='darkblue')\n",
    "#plt.semilogx(np.diag(S), basex=10, color='darkblue', linewidth = 0.5)\n",
    "plt.yscale('log', nonposy='clip')\n",
    "plt.title('Valores singulares (log 10)')\n",
    "plt.show()\n",
    "#fig.savefig('svdlog10.png')"
   ]
  },
  {
   "cell_type": "markdown",
   "metadata": {},
   "source": [
    "## Colorida"
   ]
  },
  {
   "cell_type": "code",
   "execution_count": null,
   "metadata": {
    "collapsed": false,
    "jupyter": {
     "outputs_hidden": false
    }
   },
   "outputs": [],
   "source": [
    "array = np.array(img)\n",
    "array = array / 255\n",
    "\n",
    "dim(array)"
   ]
  },
  {
   "cell_type": "code",
   "execution_count": null,
   "metadata": {},
   "outputs": [],
   "source": [
    "fig = plt.figure(figsize=(10, 10), dpi=100, facecolor='w', edgecolor='k')\n",
    "ax = fig.add_subplot(1, 1, 1)\n",
    "\n",
    "imgpplot = plt.imshow(array)\n",
    "    \n",
    "plt.title(\"original\")\n",
    "fig.savefig(\"data/original.png\".format(i))"
   ]
  },
  {
   "cell_type": "code",
   "execution_count": null,
   "metadata": {},
   "outputs": [],
   "source": [
    "for i in range(100, 1001, 100):\n",
    "    \n",
    "    fig = plt.figure(figsize=(10, 10), dpi=100, facecolor='w', edgecolor='k')\n",
    "    ax = fig.add_subplot(1, 1, 1)\n",
    "    \n",
    "    reconst, ratio = compress(array, i)    \n",
    "    imgpplot = plt.imshow(reconst)\n",
    "    \n",
    "    plt.title(\"k = {}, ratio = {:.02f}%\".format(i, ratio))\n",
    "    fig.savefig(\"data/{}.png\".format(i))"
   ]
  },
  {
   "cell_type": "code",
   "execution_count": null,
   "metadata": {},
   "outputs": [],
   "source": [
    "import os\n",
    "import glob\n",
    "\n",
    "# filepaths\n",
    "fp_in = \"data/*.png\"\n",
    "fp_out = \"data/image.gif\"\n",
    "\n",
    "# https://pillow.readthedocs.io/en/stable/handbook/image-file-formats.html#gif\n",
    "imgs = [Image.open(f).copy() for f in sorted(glob.glob(fp_in), key=os.path.getmtime)]\n",
    "\n",
    "imgs[0].save(fp=fp_out, format='GIF', append_images=imgs[1:], save_all=True, duration=2000, loop=10)"
   ]
  },
  {
   "cell_type": "code",
   "execution_count": null,
   "metadata": {},
   "outputs": [],
   "source": []
  }
 ],
 "metadata": {
  "kernelspec": {
   "display_name": "Python 3",
   "language": "python",
   "name": "python3"
  },
  "language_info": {
   "codemirror_mode": {
    "name": "ipython",
    "version": 3
   },
   "file_extension": ".py",
   "mimetype": "text/x-python",
   "name": "python",
   "nbconvert_exporter": "python",
   "pygments_lexer": "ipython3",
   "version": "3.8.1"
  }
 },
 "nbformat": 4,
 "nbformat_minor": 4
}
